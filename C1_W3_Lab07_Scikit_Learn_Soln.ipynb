{
  "cells": [
    {
      "cell_type": "markdown",
      "metadata": {
        "id": "view-in-github",
        "colab_type": "text"
      },
      "source": [
        "<a href=\"https://colab.research.google.com/github/LoosonWu/ml_notebooks/blob/main/C1_W3_Lab07_Scikit_Learn_Soln.ipynb\" target=\"_parent\"><img src=\"https://colab.research.google.com/assets/colab-badge.svg\" alt=\"Open In Colab\"/></a>"
      ]
    },
    {
      "cell_type": "markdown",
      "metadata": {
        "id": "DyIlbmyfwyK4"
      },
      "source": [
        "# Ungraded Lab:  Logistic Regression using Scikit-Learn\n",
        "\n",
        "\n"
      ],
      "id": "DyIlbmyfwyK4"
    },
    {
      "cell_type": "markdown",
      "metadata": {
        "id": "1AClk8OWwyK6"
      },
      "source": [
        "## Goals\n",
        "In this lab you will:\n",
        "-  Train a logistic regression model using scikit-learn.\n"
      ],
      "id": "1AClk8OWwyK6"
    },
    {
      "cell_type": "markdown",
      "metadata": {
        "id": "TP6jaU9_wyK7"
      },
      "source": [
        "## Dataset \n",
        "Let's start with the same dataset as before."
      ],
      "id": "TP6jaU9_wyK7"
    },
    {
      "cell_type": "code",
      "execution_count": null,
      "metadata": {
        "id": "Sh_1b2NDwyK7"
      },
      "outputs": [],
      "source": [
        "import numpy as np\n",
        "\n",
        "X = np.array([[0.5, 1.5], [1,1], [1.5, 0.5], [3, 0.5], [2, 2], [1, 2.5]])\n",
        "y = np.array([0, 0, 0, 1, 1, 1])"
      ],
      "id": "Sh_1b2NDwyK7"
    },
    {
      "cell_type": "markdown",
      "metadata": {
        "id": "i5bT4NJzwyK8"
      },
      "source": [
        "## Fit the model\n",
        "\n",
        "The code below imports the [logistic regression model](https://scikit-learn.org/stable/modules/generated/sklearn.linear_model.LogisticRegression.html#sklearn.linear_model.LogisticRegression) from scikit-learn. You can fit this model on the training data by calling `fit` function."
      ],
      "id": "i5bT4NJzwyK8"
    },
    {
      "cell_type": "code",
      "execution_count": null,
      "metadata": {
        "id": "j4Pg4OZxwyK8",
        "outputId": "a05ba550-599c-431d-baa1-ad0c9beaa808"
      },
      "outputs": [
        {
          "data": {
            "text/plain": [
              "LogisticRegression(C=1.0, class_weight=None, dual=False, fit_intercept=True,\n",
              "                   intercept_scaling=1, l1_ratio=None, max_iter=100,\n",
              "                   multi_class='auto', n_jobs=None, penalty='l2',\n",
              "                   random_state=None, solver='lbfgs', tol=0.0001, verbose=0,\n",
              "                   warm_start=False)"
            ]
          },
          "execution_count": 2,
          "metadata": {},
          "output_type": "execute_result"
        }
      ],
      "source": [
        "from sklearn.linear_model import LogisticRegression\n",
        "\n",
        "lr_model = LogisticRegression()\n",
        "lr_model.fit(X, y)"
      ],
      "id": "j4Pg4OZxwyK8"
    },
    {
      "cell_type": "markdown",
      "metadata": {
        "id": "YsUMG81-wyK9"
      },
      "source": [
        "## Make Predictions\n",
        "\n",
        "You can see the predictions made by this model by calling the `predict` function."
      ],
      "id": "YsUMG81-wyK9"
    },
    {
      "cell_type": "code",
      "execution_count": null,
      "metadata": {
        "id": "hPcccxsewyK-",
        "outputId": "1f3df5b2-388e-4578-efe5-6ae2ec15a958"
      },
      "outputs": [
        {
          "name": "stdout",
          "output_type": "stream",
          "text": [
            "Prediction on training set: [0 0 0 1 1 1]\n"
          ]
        }
      ],
      "source": [
        "y_pred = lr_model.predict(X)\n",
        "\n",
        "print(\"Prediction on training set:\", y_pred)"
      ],
      "id": "hPcccxsewyK-"
    },
    {
      "cell_type": "markdown",
      "metadata": {
        "id": "_C_M_95UwyK-"
      },
      "source": [
        "## Calculate accuracy\n",
        "\n",
        "You can calculate this accuracy of this model by calling the `score` function."
      ],
      "id": "_C_M_95UwyK-"
    },
    {
      "cell_type": "code",
      "execution_count": null,
      "metadata": {
        "id": "sYWsvo5TwyK_",
        "outputId": "6a71c1fd-72d5-47d4-bd3a-dd328fd827b3"
      },
      "outputs": [
        {
          "name": "stdout",
          "output_type": "stream",
          "text": [
            "Accuracy on training set: 1.0\n"
          ]
        }
      ],
      "source": [
        "print(\"Accuracy on training set:\", lr_model.score(X, y))"
      ],
      "id": "sYWsvo5TwyK_"
    },
    {
      "cell_type": "code",
      "execution_count": null,
      "metadata": {
        "id": "Md0sR4rLwyK_"
      },
      "outputs": [],
      "source": [],
      "id": "Md0sR4rLwyK_"
    }
  ],
  "metadata": {
    "kernelspec": {
      "display_name": "Python 3",
      "language": "python",
      "name": "python3"
    },
    "language_info": {
      "codemirror_mode": {
        "name": "ipython",
        "version": 3
      },
      "file_extension": ".py",
      "mimetype": "text/x-python",
      "name": "python",
      "nbconvert_exporter": "python",
      "pygments_lexer": "ipython3",
      "version": "3.7.6"
    },
    "colab": {
      "name": "C1_W3_Lab07_Scikit_Learn_Soln.ipynb",
      "provenance": [],
      "include_colab_link": true
    }
  },
  "nbformat": 4,
  "nbformat_minor": 5
}