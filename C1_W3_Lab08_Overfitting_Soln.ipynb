{
  "cells": [
    {
      "cell_type": "markdown",
      "metadata": {
        "id": "view-in-github",
        "colab_type": "text"
      },
      "source": [
        "<a href=\"https://colab.research.google.com/github/LoosonWu/ml_notebooks/blob/main/C1_W3_Lab08_Overfitting_Soln.ipynb\" target=\"_parent\"><img src=\"https://colab.research.google.com/assets/colab-badge.svg\" alt=\"Open In Colab\"/></a>"
      ]
    },
    {
      "cell_type": "markdown",
      "metadata": {
        "id": "Co2-b0FF6ZBn"
      },
      "source": [
        "# Ungraded Lab:  Overfitting \n",
        "\n",
        "<img align=\"left\" src=\"./images/C1_W3_Overfitting_a.png\"     style=\" width:250px; padding: 10px; \" >\n",
        "<img align=\"left\" src=\"./images/C1_W3_Overfitting_b.png\"     style=\" width:250px; padding: 10px; \" >\n",
        "<img align=\"left\" src=\"./images/C1_W3_Overfitting_c.png\"     style=\" width:250px; padding: 10px; \" >"
      ],
      "id": "Co2-b0FF6ZBn"
    },
    {
      "cell_type": "markdown",
      "metadata": {
        "id": "4WJXuCEM6ZBq"
      },
      "source": [
        "## Goals\n",
        "In this lab, you will explore:\n",
        "- the situations where overfitting can occur\n",
        "- some of the solutions"
      ],
      "id": "4WJXuCEM6ZBq"
    },
    {
      "cell_type": "code",
      "execution_count": null,
      "metadata": {
        "id": "lwrxmMZG6ZBq"
      },
      "outputs": [],
      "source": [
        "%matplotlib widget\n",
        "import matplotlib.pyplot as plt\n",
        "from ipywidgets import Output\n",
        "from plt_overfit import overfit_example, output\n",
        "plt.style.use('./deeplearning.mplstyle')"
      ],
      "id": "lwrxmMZG6ZBq"
    },
    {
      "cell_type": "markdown",
      "metadata": {
        "id": "sB-uH9vz6ZBr"
      },
      "source": [
        "# Overfitting\n",
        "The week's lecture described situations where overfitting can arise. Run the cell below to generate a plot that will allow you to explore overfitting. There are further instructions below the cell."
      ],
      "id": "sB-uH9vz6ZBr"
    },
    {
      "cell_type": "code",
      "execution_count": null,
      "metadata": {
        "id": "K5ilnBUf6ZBs",
        "outputId": "00c9757d-c92c-4a24-d2c8-474b5c0ac61f",
        "colab": {
          "referenced_widgets": [
            "d501298b4fcf42ecaa40aaada930ea73",
            "bcfcd5c1c8a940e5b9e213db5f380d93"
          ]
        }
      },
      "outputs": [
        {
          "data": {
            "application/vnd.jupyter.widget-view+json": {
              "model_id": "d501298b4fcf42ecaa40aaada930ea73",
              "version_major": 2,
              "version_minor": 0
            },
            "text/plain": [
              "Output()"
            ]
          },
          "metadata": {},
          "output_type": "display_data"
        },
        {
          "data": {
            "application/vnd.jupyter.widget-view+json": {
              "model_id": "bcfcd5c1c8a940e5b9e213db5f380d93",
              "version_major": 2,
              "version_minor": 0
            },
            "text/plain": [
              "Canvas(toolbar=Toolbar(toolitems=[('Home', 'Reset original view', 'home', 'home'), ('Back', 'Back to previous …"
            ]
          },
          "metadata": {},
          "output_type": "display_data"
        }
      ],
      "source": [
        "plt.close(\"all\")\n",
        "display(output)\n",
        "ofit = overfit_example(False)"
      ],
      "id": "K5ilnBUf6ZBs"
    },
    {
      "cell_type": "markdown",
      "metadata": {
        "id": "v9gqYgBv6ZBt"
      },
      "source": [
        "In the plot above you can:\n",
        "- switch between Regression and Categorization examples\n",
        "- add data\n",
        "- select the degree of the model\n",
        "- fit the model to the data  \n",
        "\n",
        "Here are some things you should try:\n",
        "- Fit the data with degree = 1; Note 'underfitting'.\n",
        "- Fit the data with degree = 6; Note 'overfitting'\n",
        "- tune degree to get the 'best fit'\n",
        "- add data:\n",
        "    - extreme examples can increase overfitting (assuming they are outliers).\n",
        "    - nominal examples can reduce overfitting\n",
        "- switch between `Regression` and `Categorical` to try both examples.\n",
        "\n",
        "To reset the plot, re-run the cell. Click slowly to allow the plot to update before receiving the next click.\n",
        "\n",
        "Notes on implementations:\n",
        "- the 'ideal' curves represent the generator model to which noise was added to achieve the data set\n",
        "- 'fit' does not use pure gradient descent to improve speed. These methods can be used on smaller data sets. "
      ],
      "id": "v9gqYgBv6ZBt"
    },
    {
      "cell_type": "markdown",
      "metadata": {
        "id": "MUS5Gygf6ZBt"
      },
      "source": [
        "## Congratulations!\n",
        "You have developed some intuition about the causes and solutions to overfitting. In the next lab, you will explore a commonly used solution, Regularization."
      ],
      "id": "MUS5Gygf6ZBt"
    },
    {
      "cell_type": "code",
      "execution_count": null,
      "metadata": {
        "id": "FSrhY9eW6ZBu"
      },
      "outputs": [],
      "source": [],
      "id": "FSrhY9eW6ZBu"
    }
  ],
  "metadata": {
    "kernelspec": {
      "display_name": "Python 3",
      "language": "python",
      "name": "python3"
    },
    "language_info": {
      "codemirror_mode": {
        "name": "ipython",
        "version": 3
      },
      "file_extension": ".py",
      "mimetype": "text/x-python",
      "name": "python",
      "nbconvert_exporter": "python",
      "pygments_lexer": "ipython3",
      "version": "3.7.6"
    },
    "colab": {
      "name": "C1_W3_Lab08_Overfitting_Soln.ipynb",
      "provenance": [],
      "include_colab_link": true
    }
  },
  "nbformat": 4,
  "nbformat_minor": 5
}